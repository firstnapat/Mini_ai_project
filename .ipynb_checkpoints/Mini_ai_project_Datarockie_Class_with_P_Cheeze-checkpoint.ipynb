{
 "cells": [
  {
   "cell_type": "markdown",
   "id": "e56a9581",
   "metadata": {},
   "source": [
    "# GTTS text-to-speech\n",
    "เข้าไปดึง api จาก google มารันให้ตัวอักษรเป็นเสียง"
   ]
  },
  {
   "cell_type": "code",
   "execution_count": 1,
   "id": "8d54be60",
   "metadata": {},
   "outputs": [],
   "source": [
    "import gtts"
   ]
  },
  {
   "cell_type": "code",
   "execution_count": 2,
   "id": "50af0bec",
   "metadata": {
    "scrolled": true
   },
   "outputs": [
    {
     "data": {
      "text/plain": [
       "{'af': 'Afrikaans',\n",
       " 'ar': 'Arabic',\n",
       " 'bg': 'Bulgarian',\n",
       " 'bn': 'Bengali',\n",
       " 'bs': 'Bosnian',\n",
       " 'ca': 'Catalan',\n",
       " 'cs': 'Czech',\n",
       " 'cy': 'Welsh',\n",
       " 'da': 'Danish',\n",
       " 'de': 'German',\n",
       " 'el': 'Greek',\n",
       " 'en': 'English',\n",
       " 'eo': 'Esperanto',\n",
       " 'es': 'Spanish',\n",
       " 'et': 'Estonian',\n",
       " 'fi': 'Finnish',\n",
       " 'fr': 'French',\n",
       " 'gu': 'Gujarati',\n",
       " 'hi': 'Hindi',\n",
       " 'hr': 'Croatian',\n",
       " 'hu': 'Hungarian',\n",
       " 'hy': 'Armenian',\n",
       " 'id': 'Indonesian',\n",
       " 'is': 'Icelandic',\n",
       " 'it': 'Italian',\n",
       " 'iw': 'Hebrew',\n",
       " 'ja': 'Japanese',\n",
       " 'jw': 'Javanese',\n",
       " 'km': 'Khmer',\n",
       " 'kn': 'Kannada',\n",
       " 'ko': 'Korean',\n",
       " 'la': 'Latin',\n",
       " 'lv': 'Latvian',\n",
       " 'mk': 'Macedonian',\n",
       " 'ms': 'Malay',\n",
       " 'ml': 'Malayalam',\n",
       " 'mr': 'Marathi',\n",
       " 'my': 'Myanmar (Burmese)',\n",
       " 'ne': 'Nepali',\n",
       " 'nl': 'Dutch',\n",
       " 'no': 'Norwegian',\n",
       " 'pl': 'Polish',\n",
       " 'pt': 'Portuguese',\n",
       " 'ro': 'Romanian',\n",
       " 'ru': 'Russian',\n",
       " 'si': 'Sinhala',\n",
       " 'sk': 'Slovak',\n",
       " 'sq': 'Albanian',\n",
       " 'sr': 'Serbian',\n",
       " 'su': 'Sundanese',\n",
       " 'sv': 'Swedish',\n",
       " 'sw': 'Swahili',\n",
       " 'ta': 'Tamil',\n",
       " 'te': 'Telugu',\n",
       " 'th': 'Thai',\n",
       " 'tl': 'Filipino',\n",
       " 'tr': 'Turkish',\n",
       " 'uk': 'Ukrainian',\n",
       " 'ur': 'Urdu',\n",
       " 'vi': 'Vietnamese',\n",
       " 'zh-CN': 'Chinese',\n",
       " 'zh-TW': 'Chinese (Mandarin/Taiwan)',\n",
       " 'zh': 'Chinese (Mandarin)'}"
      ]
     },
     "execution_count": 2,
     "metadata": {},
     "output_type": "execute_result"
    }
   ],
   "source": [
    "gtts.lang.tts_langs()"
   ]
  },
  {
   "cell_type": "code",
   "execution_count": 9,
   "id": "33dcb371",
   "metadata": {},
   "outputs": [],
   "source": [
    "file = gtts.gTTS(text = \"Hello i'm Tongsee. I'm Mhor lum\",\n",
    "                tld = \"co.uk\", lang = \"en\")"
   ]
  },
  {
   "cell_type": "code",
   "execution_count": 10,
   "id": "65c4ec93",
   "metadata": {},
   "outputs": [],
   "source": [
    "file.save(\"hello.mp3\")"
   ]
  },
  {
   "cell_type": "code",
   "execution_count": 19,
   "id": "b19c29b2",
   "metadata": {},
   "outputs": [
    {
     "name": "stdout",
     "output_type": "stream",
     "text": [
      "Requirement already satisfied: IPython in c:\\users\\admin\\appdata\\local\\programs\\python\\python310\\lib\\site-packages (8.4.0)\n",
      "Requirement already satisfied: setuptools>=18.5 in c:\\users\\admin\\appdata\\local\\programs\\python\\python310\\lib\\site-packages (from IPython) (58.1.0)\n",
      "Requirement already satisfied: jedi>=0.16 in c:\\users\\admin\\appdata\\local\\programs\\python\\python310\\lib\\site-packages (from IPython) (0.18.1)\n",
      "Requirement already satisfied: prompt-toolkit!=3.0.0,!=3.0.1,<3.1.0,>=2.0.0 in c:\\users\\admin\\appdata\\local\\programs\\python\\python310\\lib\\site-packages (from IPython) (3.0.30)\n",
      "Requirement already satisfied: pygments>=2.4.0 in c:\\users\\admin\\appdata\\local\\programs\\python\\python310\\lib\\site-packages (from IPython) (2.13.0)\n",
      "Requirement already satisfied: decorator in c:\\users\\admin\\appdata\\local\\programs\\python\\python310\\lib\\site-packages (from IPython) (5.1.1)\n",
      "Requirement already satisfied: backcall in c:\\users\\admin\\appdata\\local\\programs\\python\\python310\\lib\\site-packages (from IPython) (0.2.0)\n",
      "Requirement already satisfied: colorama in c:\\users\\admin\\appdata\\local\\programs\\python\\python310\\lib\\site-packages (from IPython) (0.4.5)\n",
      "Requirement already satisfied: stack-data in c:\\users\\admin\\appdata\\local\\programs\\python\\python310\\lib\\site-packages (from IPython) (0.5.0)\n",
      "Requirement already satisfied: matplotlib-inline in c:\\users\\admin\\appdata\\local\\programs\\python\\python310\\lib\\site-packages (from IPython) (0.1.6)\n",
      "Requirement already satisfied: pickleshare in c:\\users\\admin\\appdata\\local\\programs\\python\\python310\\lib\\site-packages (from IPython) (0.7.5)\n",
      "Requirement already satisfied: traitlets>=5 in c:\\users\\admin\\appdata\\local\\programs\\python\\python310\\lib\\site-packages (from IPython) (5.3.0)\n",
      "Requirement already satisfied: parso<0.9.0,>=0.8.0 in c:\\users\\admin\\appdata\\local\\programs\\python\\python310\\lib\\site-packages (from jedi>=0.16->IPython) (0.8.3)\n",
      "Requirement already satisfied: wcwidth in c:\\users\\admin\\appdata\\local\\programs\\python\\python310\\lib\\site-packages (from prompt-toolkit!=3.0.0,!=3.0.1,<3.1.0,>=2.0.0->IPython) (0.2.5)\n",
      "Requirement already satisfied: asttokens in c:\\users\\admin\\appdata\\local\\programs\\python\\python310\\lib\\site-packages (from stack-data->IPython) (2.0.8)\n",
      "Requirement already satisfied: executing in c:\\users\\admin\\appdata\\local\\programs\\python\\python310\\lib\\site-packages (from stack-data->IPython) (1.0.0)\n",
      "Requirement already satisfied: pure-eval in c:\\users\\admin\\appdata\\local\\programs\\python\\python310\\lib\\site-packages (from stack-data->IPython) (0.2.2)\n",
      "Requirement already satisfied: six in c:\\users\\admin\\appdata\\local\\programs\\python\\python310\\lib\\site-packages (from asttokens->stack-data->IPython) (1.16.0)\n"
     ]
    }
   ],
   "source": [
    "!pip install IPython"
   ]
  },
  {
   "cell_type": "code",
   "execution_count": 12,
   "id": "b6cf6df4",
   "metadata": {},
   "outputs": [],
   "source": [
    "import IPython"
   ]
  },
  {
   "cell_type": "code",
   "execution_count": 13,
   "id": "55a01cf4",
   "metadata": {},
   "outputs": [
    {
     "data": {
      "text/html": [
       "\n",
       "                <audio  controls=\"controls\" autoplay=\"autoplay\">\n",
       "                    <source src=\"data:audio/mpeg;base64,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\" type=\"audio/mpeg\" />\n",
       "                    Your browser does not support the audio element.\n",
       "                </audio>\n",
       "              "
      ],
      "text/plain": [
       "<IPython.lib.display.Audio object>"
      ]
     },
     "execution_count": 13,
     "metadata": {},
     "output_type": "execute_result"
    }
   ],
   "source": [
    "IPython.display.Audio(filename=\"hello.mp3\", autoplay = True)"
   ]
  },
  {
   "cell_type": "markdown",
   "id": "8f5937ec",
   "metadata": {},
   "source": [
    "# Pyttsx3 (python text-to-speech)"
   ]
  },
  {
   "cell_type": "code",
   "execution_count": 18,
   "id": "168b5b7e",
   "metadata": {},
   "outputs": [
    {
     "name": "stdout",
     "output_type": "stream",
     "text": [
      "Requirement already satisfied: pyttsx3 in c:\\users\\admin\\appdata\\local\\programs\\python\\python310\\lib\\site-packages (2.90)\n",
      "Requirement already satisfied: pywin32 in c:\\users\\admin\\appdata\\local\\programs\\python\\python310\\lib\\site-packages (from pyttsx3) (304)\n",
      "Requirement already satisfied: pypiwin32 in c:\\users\\admin\\appdata\\local\\programs\\python\\python310\\lib\\site-packages (from pyttsx3) (223)\n",
      "Requirement already satisfied: comtypes in c:\\users\\admin\\appdata\\local\\programs\\python\\python310\\lib\\site-packages (from pyttsx3) (1.1.14)\n"
     ]
    }
   ],
   "source": [
    "# sapi5 for windows\n",
    "!pip install pyttsx3 "
   ]
  },
  {
   "cell_type": "code",
   "execution_count": 17,
   "id": "7ae0de45",
   "metadata": {},
   "outputs": [
    {
     "name": "stdout",
     "output_type": "stream",
     "text": [
      "Requirement already satisfied: pip in c:\\users\\admin\\appdata\\local\\programs\\python\\python310\\lib\\site-packages (22.0.4)\n",
      "Collecting pip\n",
      "  Downloading pip-22.2.2-py3-none-any.whl (2.0 MB)\n",
      "     ---------------------------------------- 2.0/2.0 MB 2.5 MB/s eta 0:00:00\n",
      "Installing collected packages: pip\n",
      "  Attempting uninstall: pip\n",
      "    Found existing installation: pip 22.0.4\n",
      "    Uninstalling pip-22.0.4:\n",
      "      Successfully uninstalled pip-22.0.4\n",
      "Successfully installed pip-22.2.2\n"
     ]
    }
   ],
   "source": [
    "!python -m pip install --upgrade pip"
   ]
  },
  {
   "cell_type": "code",
   "execution_count": 39,
   "id": "b35f821c",
   "metadata": {},
   "outputs": [
    {
     "name": "stdout",
     "output_type": "stream",
     "text": [
      "Enter the input text: I'm Num I'm dek krapok\n"
     ]
    }
   ],
   "source": [
    "# create pyttsx3 init\n",
    "import pyttsx3\n",
    "\n",
    "#Initial the speaker engine\n",
    "engine = pyttsx3.init(\"sapi5\")\n",
    "\n",
    "#Set the rate of speed\n",
    "engine.setProperty(\"rate\", 100)\n",
    "\n",
    "voices = engine.getProperty(\"voices\")\n",
    "# for voice in voices:\n",
    "#     print(voice)\n",
    "    \n",
    "engine.setProperty(\"voice\", voices[0].id)\n",
    "\n",
    "engine.setProperty(\"volume\", 1.0)\n",
    "\n",
    "mp3_filename = \"pyttsx3Result.mp3\"\n",
    "\n",
    "\n",
    "\n",
    "def speak(inputtext):\n",
    "    engine.say(inputtext)\n",
    "    engine.runAndWait()\n",
    "    \n",
    "inputtext = input(\"Enter the input text: \")\n",
    "speak(inputtext)"
   ]
  },
  {
   "cell_type": "markdown",
   "id": "b50ecf16",
   "metadata": {},
   "source": [
    "# PyPDF4"
   ]
  },
  {
   "cell_type": "code",
   "execution_count": 40,
   "id": "12899a68",
   "metadata": {},
   "outputs": [
    {
     "name": "stdout",
     "output_type": "stream",
     "text": [
      "Collecting PyPDF4\n",
      "  Downloading PyPDF4-1.27.0.tar.gz (63 kB)\n",
      "     ---------------------------------------- 63.9/63.9 kB 3.4 MB/s eta 0:00:00\n",
      "  Preparing metadata (setup.py): started\n",
      "  Preparing metadata (setup.py): finished with status 'done'\n",
      "Using legacy 'setup.py install' for PyPDF4, since package 'wheel' is not installed.\n",
      "Installing collected packages: PyPDF4\n",
      "  Running setup.py install for PyPDF4: started\n",
      "  Running setup.py install for PyPDF4: finished with status 'done'\n",
      "Successfully installed PyPDF4-1.27.0\n"
     ]
    }
   ],
   "source": [
    "# convert pdf to text\n",
    "!pip install PyPDF4"
   ]
  },
  {
   "cell_type": "code",
   "execution_count": 42,
   "id": "f54fbd45",
   "metadata": {},
   "outputs": [
    {
     "data": {
      "text/plain": [
       "['',\n",
       " 'A',\n",
       " 'Simple',\n",
       " 'PDF',\n",
       " 'File',\n",
       " '',\n",
       " 'This',\n",
       " 'is',\n",
       " 'a',\n",
       " 'small',\n",
       " 'demonstration',\n",
       " '.pdf',\n",
       " 'file',\n",
       " '-',\n",
       " '',\n",
       " 'just',\n",
       " 'for',\n",
       " 'use',\n",
       " 'in',\n",
       " 'the',\n",
       " 'Virtual',\n",
       " 'Mechanics',\n",
       " 'tutorials.',\n",
       " 'More',\n",
       " 'text.',\n",
       " 'And',\n",
       " 'more',\n",
       " '',\n",
       " 'text.',\n",
       " 'And',\n",
       " 'more',\n",
       " 'text.',\n",
       " 'And',\n",
       " 'more',\n",
       " 'text.',\n",
       " 'And',\n",
       " 'more',\n",
       " 'text.',\n",
       " '',\n",
       " 'And',\n",
       " 'more',\n",
       " 'text.',\n",
       " 'And',\n",
       " 'more',\n",
       " 'text.',\n",
       " 'And',\n",
       " 'more',\n",
       " 'text.',\n",
       " 'And',\n",
       " 'more',\n",
       " 'text.',\n",
       " 'And',\n",
       " 'more',\n",
       " '',\n",
       " 'text.',\n",
       " 'And',\n",
       " 'more',\n",
       " 'text.',\n",
       " 'Boring,',\n",
       " 'zzzzz.',\n",
       " 'And',\n",
       " 'more',\n",
       " 'text.',\n",
       " 'And',\n",
       " 'more',\n",
       " 'text.',\n",
       " 'And',\n",
       " '',\n",
       " 'more',\n",
       " 'text.',\n",
       " 'And',\n",
       " 'more',\n",
       " 'text.',\n",
       " 'And',\n",
       " 'more',\n",
       " 'text.',\n",
       " 'And',\n",
       " 'more',\n",
       " 'text.',\n",
       " 'And',\n",
       " 'more',\n",
       " 'text.',\n",
       " '',\n",
       " 'And',\n",
       " 'more',\n",
       " 'text.',\n",
       " 'And',\n",
       " 'more',\n",
       " 'text.',\n",
       " '',\n",
       " 'And',\n",
       " 'more',\n",
       " 'text.',\n",
       " 'And',\n",
       " 'more',\n",
       " 'text.',\n",
       " 'And',\n",
       " 'more',\n",
       " 'text.',\n",
       " 'And',\n",
       " 'more',\n",
       " 'text.',\n",
       " 'And',\n",
       " 'more',\n",
       " '',\n",
       " 'text.',\n",
       " 'And',\n",
       " 'more',\n",
       " 'text.',\n",
       " 'And',\n",
       " 'more',\n",
       " 'text.',\n",
       " 'Even',\n",
       " 'more.',\n",
       " 'Continued',\n",
       " 'on',\n",
       " 'page',\n",
       " '2',\n",
       " '...']"
      ]
     },
     "execution_count": 42,
     "metadata": {},
     "output_type": "execute_result"
    }
   ],
   "source": [
    "import PyPDF4\n",
    "\n",
    "pdfReader = PyPDF4.PdfFileReader(\"sample.pdf\")\n",
    "\n",
    "pdfReader.getPage(0).extractText().replace(\"\\n\", \"\").split(\" \")"
   ]
  },
  {
   "cell_type": "markdown",
   "id": "cbadc405",
   "metadata": {},
   "source": [
    "# Apply PyPDF4 with Pyttsx3 (python text-to-speech)"
   ]
  },
  {
   "cell_type": "code",
   "execution_count": null,
   "id": "2749135c",
   "metadata": {},
   "outputs": [],
   "source": [
    "import PyPDF4\n",
    "from gtts import gTTS\n",
    "from IPython"
   ]
  },
  {
   "cell_type": "code",
   "execution_count": null,
   "id": "0b3a293b",
   "metadata": {},
   "outputs": [],
   "source": []
  },
  {
   "cell_type": "markdown",
   "id": "f3be29b1",
   "metadata": {},
   "source": [
    "# Face Detection with OpenCV\n",
    "we use Haar Cascade Classifier Pretain for object detection"
   ]
  },
  {
   "cell_type": "code",
   "execution_count": 43,
   "id": "61d35698",
   "metadata": {},
   "outputs": [
    {
     "name": "stdout",
     "output_type": "stream",
     "text": [
      "Collecting opencv-python\n",
      "  Downloading opencv_python-4.6.0.66-cp36-abi3-win_amd64.whl (35.6 MB)\n",
      "     ---------------------------------------- 35.6/35.6 MB 5.2 MB/s eta 0:00:00\n",
      "Collecting numpy>=1.17.3\n",
      "  Downloading numpy-1.23.2-cp310-cp310-win_amd64.whl (14.6 MB)\n",
      "     ---------------------------------------- 14.6/14.6 MB 8.4 MB/s eta 0:00:00\n",
      "Installing collected packages: numpy, opencv-python\n",
      "Successfully installed numpy-1.23.2 opencv-python-4.6.0.66\n"
     ]
    }
   ],
   "source": [
    "!pip install opencv-python"
   ]
  },
  {
   "cell_type": "code",
   "execution_count": 46,
   "id": "06ae97ae",
   "metadata": {},
   "outputs": [],
   "source": [
    "import cv2\n",
    "\n",
    "imagePath = \"people.jpg\"\n",
    "\n",
    "face_cascade = cv2.CascadeClassifier(cv2.data.haarcascades + \"haarcascade_frontalface_default.xml\")\n",
    "image = cv2.imread(imagePath)\n",
    "grayscaleImage = cv2.cvtColor(image, cv2.COLOR_BGR2GRAY)\n",
    "detectedFaces = face_cascade.detectMultiScale(grayscaleImage, 1.3, 6)\n",
    "for x,y,w,h in detectedFaces:\n",
    "    image = cv2.rectangle(image, (x,y), (x+w, y+h), (178,102,255), 2)\n",
    "    cv2.imshow(\"Face Detection\", image)\n",
    "    cv2.waitKey(2000)\n",
    "while True:\n",
    "    if cv2.waitKey(1) & 0xFF == ord(\"q\"):\n",
    "        break\n",
    "cv2.destroyAllWindows()\n",
    "quit()"
   ]
  },
  {
   "cell_type": "code",
   "execution_count": null,
   "id": "9297a6e7",
   "metadata": {},
   "outputs": [],
   "source": []
  }
 ],
 "metadata": {
  "kernelspec": {
   "display_name": "Python 3 (ipykernel)",
   "language": "python",
   "name": "python3"
  },
  "language_info": {
   "codemirror_mode": {
    "name": "ipython",
    "version": 3
   },
   "file_extension": ".py",
   "mimetype": "text/x-python",
   "name": "python",
   "nbconvert_exporter": "python",
   "pygments_lexer": "ipython3",
   "version": "3.10.4"
  }
 },
 "nbformat": 4,
 "nbformat_minor": 5
}
